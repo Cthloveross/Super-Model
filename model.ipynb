{
 "cells": [
  {
   "cell_type": "code",
   "execution_count": 8,
   "metadata": {},
   "outputs": [
    {
     "name": "stdout",
     "output_type": "stream",
     "text": [
      "Selected 40 images, renamed them, and copied them to dataset/cat/selected_images\n",
      "Selected 40 images, renamed them, and copied them to dataset/dog/selected_images\n",
      "Selected 40 images, renamed them, and copied them to dataset/swan/selected_images\n"
     ]
    }
   ],
   "source": [
    "import os\n",
    "import random\n",
    "import shutil\n",
    "\n",
    "def select_and_rename_image_files(path, num_images, label):\n",
    "    # List all files in the directory\n",
    "    all_files = os.listdir(path)\n",
    "\n",
    "    # Filter only image files (assuming they have extensions like .jpg, .jpeg, .png, .bmp, .gif)\n",
    "    image_files = [f for f in all_files if f.endswith(('.jpg', '.jpeg', '.png', '.bmp', '.gif'))]\n",
    "\n",
    "    # Randomly select the specified number of images\n",
    "    selected_images = random.sample(image_files, num_images)\n",
    "\n",
    "    # Define the path to the new directory\n",
    "    selected_path = os.path.join(path, \"selected_images\")\n",
    "\n",
    "    # Create the directory if it doesn't exist, or clear it if it does\n",
    "    if os.path.exists(selected_path):\n",
    "        shutil.rmtree(selected_path)\n",
    "    os.makedirs(selected_path, exist_ok=True)\n",
    "\n",
    "    # Copy and rename the selected images to the new directory\n",
    "    for i, image in enumerate(selected_images, start=1):\n",
    "        new_filename = f\"{i}_{label}.jpg\"\n",
    "        shutil.copy(os.path.join(path, image), os.path.join(selected_path, new_filename))\n",
    "\n",
    "    print(f\"Selected {len(selected_images)} images, renamed them, and copied them to {selected_path}\")\n",
    "\n",
    "# Apply the function to each dataset\n",
    "datasets = [(\"dataset/cat\", \"cat\"), (\"dataset/dog\", \"dog\"), (\"dataset/swan\", \"swan\")]\n",
    "for dataset_path, label in datasets:\n",
    "    select_and_rename_image_files(dataset_path, 40, label)\n"
   ]
  },
  {
   "cell_type": "code",
   "execution_count": 9,
   "metadata": {},
   "outputs": [],
   "source": [
    "import os\n",
    "import random\n",
    "import shutil\n",
    "from PIL import Image\n",
    "from transformers import BlipProcessor, BlipForConditionalGeneration\n",
    "import pandas as pd\n",
    "\n",
    "def generate_captions_for_dataset(dataset_name, base_path=\"dataset\", num_images=40):\n",
    "    dataset_path = os.path.join(base_path, dataset_name)\n",
    "    captions_path = os.path.join(base_path, f\"{dataset_name}_captions\")\n",
    "    os.makedirs(captions_path, exist_ok=True)\n",
    "\n",
    "    # List all files in the directory\n",
    "    all_files = os.listdir(dataset_path)\n",
    "\n",
    "    # Filter only image files (assuming they have extensions like .jpg, .jpeg, .png, .bmp, .gif)\n",
    "    image_files = [f for f in all_files if f.endswith(('.jpg', '.jpeg', '.png', '.bmp', '.gif'))]\n",
    "\n",
    "    # Randomly select num_images images\n",
    "    selected_images = random.sample(image_files, num_images)\n",
    "\n",
    "    # Load the processor and model\n",
    "    processor = BlipProcessor.from_pretrained(\"Salesforce/blip-image-captioning-large\")\n",
    "\n",
    "\n",
    "    model = BlipForConditionalGeneration.from_pretrained(\"Salesforce/blip-image-captioning-large\")\n",
    "\n",
    "    captions = []\n",
    "\n",
    "    for image_file in selected_images:\n",
    "        # Load and preprocess the image\n",
    "        image_path = os.path.join(dataset_path, image_file)\n",
    "        raw_image = Image.open(image_path).convert(\"RGB\")  # Ensure the image is in RGB mode\n",
    "\n",
    "        # Generate caption with minimum and maximum length settings\n",
    "        inputs = processor(raw_image, return_tensors=\"pt\")\n",
    "\n",
    "        generated_ids = model.generate(\n",
    "            **inputs,\n",
    "            min_length=25,  # Set a minimum length to encourage longer captions\n",
    "            max_length=100,  # Set a maximum length to avoid excessively long captions\n",
    "            num_beams=5,  # Use beam search to improve the quality of the generated caption\n",
    "            no_repeat_ngram_size=2,  # Avoid repeating n-grams of the specified size\n",
    "            early_stopping=True  # Stop early when the end token is generated\n",
    "        )\n",
    "\n",
    "        caption = processor.decode(generated_ids[0], skip_special_tokens=True)\n",
    "\n",
    "        # # Ensure the caption has exactly 20 words, adjusting if necessary\n",
    "        # words = caption.split()\n",
    "        # if len(words) > 20:\n",
    "        #     caption = ' '.join(words[:20])\n",
    "        # elif len(words) < 20:\n",
    "        #     # Optionally, pad with additional words or symbols if less than 20\n",
    "        #     caption = ' '.join(words + ['<pad>'] * (20 - len(words)))\n",
    "\n",
    "        # Store the caption with its corresponding image file name\n",
    "        captions.append({\"image\": image_file, \"caption\": caption})\n",
    "\n",
    "    # Save captions to a CSV file\n",
    "    captions_df = pd.DataFrame(captions)\n",
    "    captions_df.to_csv(os.path.join(captions_path, \"captions.csv\"), index=False)\n",
    "\n",
    "    print(f\"Generated captions for {dataset_name} images and saved to CSV.\")"
   ]
  },
  {
   "cell_type": "code",
   "execution_count": 10,
   "metadata": {},
   "outputs": [
    {
     "name": "stdout",
     "output_type": "stream",
     "text": [
      "Generated captions for dog/selected_images images and saved to CSV.\n",
      "Generated captions for cat/selected_images images and saved to CSV.\n",
      "Generated captions for swan/selected_images images and saved to CSV.\n"
     ]
    }
   ],
   "source": [
    "datasets = [\"dog/selected_images\", \"cat/selected_images\", \"swan/selected_images\"]\n",
    "for dataset in datasets:\n",
    "    generate_captions_for_dataset(dataset)"
   ]
  },
  {
   "cell_type": "code",
   "execution_count": null,
   "metadata": {},
   "outputs": [],
   "source": []
  },
  {
   "cell_type": "code",
   "execution_count": null,
   "metadata": {},
   "outputs": [],
   "source": []
  },
  {
   "cell_type": "code",
   "execution_count": null,
   "metadata": {},
   "outputs": [],
   "source": []
  },
  {
   "cell_type": "code",
   "execution_count": null,
   "metadata": {},
   "outputs": [
    {
     "data": {
      "application/vnd.jupyter.widget-view+json": {
       "model_id": "223a09d2cf6d4996932ce5657be1ca4f",
       "version_major": 2,
       "version_minor": 0
      },
      "text/plain": [
       "config.json:   0%|          | 0.00/631 [00:00<?, ?B/s]"
      ]
     },
     "metadata": {},
     "output_type": "display_data"
    },
    {
     "data": {
      "application/vnd.jupyter.widget-view+json": {
       "model_id": "691c3b11bcd6499487a4258f41d8b698",
       "version_major": 2,
       "version_minor": 0
      },
      "text/plain": [
       "diffusion_pytorch_model.safetensors:   0%|          | 0.00/335M [00:00<?, ?B/s]"
      ]
     },
     "metadata": {},
     "output_type": "display_data"
    },
    {
     "data": {
      "application/vnd.jupyter.widget-view+json": {
       "model_id": "bb61eabfc4b14f34b469f8fac5a31241",
       "version_major": 2,
       "version_minor": 0
      },
      "text/plain": [
       "model_index.json:   0%|          | 0.00/671 [00:00<?, ?B/s]"
      ]
     },
     "metadata": {},
     "output_type": "display_data"
    },
    {
     "data": {
      "application/vnd.jupyter.widget-view+json": {
       "model_id": "57de43228b3840539fd2d8d891c52a77",
       "version_major": 2,
       "version_minor": 0
      },
      "text/plain": [
       "Fetching 16 files:   0%|          | 0/16 [00:00<?, ?it/s]"
      ]
     },
     "metadata": {},
     "output_type": "display_data"
    },
    {
     "data": {
      "application/vnd.jupyter.widget-view+json": {
       "model_id": "3a5d8ca2634a481c9a5c0a40451d0091",
       "version_major": 2,
       "version_minor": 0
      },
      "text/plain": [
       "text_encoder_2/config.json:   0%|          | 0.00/570 [00:00<?, ?B/s]"
      ]
     },
     "metadata": {},
     "output_type": "display_data"
    },
    {
     "data": {
      "application/vnd.jupyter.widget-view+json": {
       "model_id": "2dbe29eb65c14fd7a05b086197b2fc86",
       "version_major": 2,
       "version_minor": 0
      },
      "text/plain": [
       "scheduler/scheduler_config.json:   0%|          | 0.00/558 [00:00<?, ?B/s]"
      ]
     },
     "metadata": {},
     "output_type": "display_data"
    },
    {
     "data": {
      "application/vnd.jupyter.widget-view+json": {
       "model_id": "9a15779b8014432ebe32c942db357e55",
       "version_major": 2,
       "version_minor": 0
      },
      "text/plain": [
       "tokenizer/tokenizer_config.json:   0%|          | 0.00/705 [00:00<?, ?B/s]"
      ]
     },
     "metadata": {},
     "output_type": "display_data"
    },
    {
     "data": {
      "application/vnd.jupyter.widget-view+json": {
       "model_id": "23fe48617fe9428ab37b204d1d9d5124",
       "version_major": 2,
       "version_minor": 0
      },
      "text/plain": [
       "tokenizer/merges.txt:   0%|          | 0.00/525k [00:00<?, ?B/s]"
      ]
     },
     "metadata": {},
     "output_type": "display_data"
    },
    {
     "data": {
      "application/vnd.jupyter.widget-view+json": {
       "model_id": "bdfb27e3f72e4a55a9bc18e7325711df",
       "version_major": 2,
       "version_minor": 0
      },
      "text/plain": [
       "text_encoder/config.json:   0%|          | 0.00/560 [00:00<?, ?B/s]"
      ]
     },
     "metadata": {},
     "output_type": "display_data"
    },
    {
     "data": {
      "application/vnd.jupyter.widget-view+json": {
       "model_id": "35143947662f4b038b2c5a623b5e0bea",
       "version_major": 2,
       "version_minor": 0
      },
      "text/plain": [
       "tokenizer/special_tokens_map.json:   0%|          | 0.00/588 [00:00<?, ?B/s]"
      ]
     },
     "metadata": {},
     "output_type": "display_data"
    },
    {
     "data": {
      "application/vnd.jupyter.widget-view+json": {
       "model_id": "80369cdfc37e4d25992359b32e5aa3f1",
       "version_major": 2,
       "version_minor": 0
      },
      "text/plain": [
       "model.safetensors:   0%|          | 0.00/492M [00:00<?, ?B/s]"
      ]
     },
     "metadata": {},
     "output_type": "display_data"
    },
    {
     "data": {
      "application/vnd.jupyter.widget-view+json": {
       "model_id": "8b43dce1f30d4a51a9c96df729d2caf6",
       "version_major": 2,
       "version_minor": 0
      },
      "text/plain": [
       "tokenizer_2/special_tokens_map.json:   0%|          | 0.00/462 [00:00<?, ?B/s]"
      ]
     },
     "metadata": {},
     "output_type": "display_data"
    },
    {
     "data": {
      "application/vnd.jupyter.widget-view+json": {
       "model_id": "2a7d28aec46f473894529c8fced350e0",
       "version_major": 2,
       "version_minor": 0
      },
      "text/plain": [
       "tokenizer/vocab.json:   0%|          | 0.00/1.06M [00:00<?, ?B/s]"
      ]
     },
     "metadata": {},
     "output_type": "display_data"
    },
    {
     "data": {
      "application/vnd.jupyter.widget-view+json": {
       "model_id": "d494c9fe8d7a41b798eaa2db4c494dba",
       "version_major": 2,
       "version_minor": 0
      },
      "text/plain": [
       "model.safetensors:   0%|          | 0.00/2.78G [00:00<?, ?B/s]"
      ]
     },
     "metadata": {},
     "output_type": "display_data"
    },
    {
     "data": {
      "application/vnd.jupyter.widget-view+json": {
       "model_id": "49281edcfcf544a08cf8f0e6003dfd1d",
       "version_major": 2,
       "version_minor": 0
      },
      "text/plain": [
       "tokenizer_2/tokenizer_config.json:   0%|          | 0.00/856 [00:00<?, ?B/s]"
      ]
     },
     "metadata": {},
     "output_type": "display_data"
    },
    {
     "data": {
      "application/vnd.jupyter.widget-view+json": {
       "model_id": "ee400cbda0fc466a9e68f4ce9c4c1311",
       "version_major": 2,
       "version_minor": 0
      },
      "text/plain": [
       "unet/config.json:   0%|          | 0.00/1.77k [00:00<?, ?B/s]"
      ]
     },
     "metadata": {},
     "output_type": "display_data"
    },
    {
     "data": {
      "application/vnd.jupyter.widget-view+json": {
       "model_id": "d38ce957ed724daaa0d1e6c38c5d9f3c",
       "version_major": 2,
       "version_minor": 0
      },
      "text/plain": [
       "diffusion_pytorch_model.safetensors:   0%|          | 0.00/10.3G [00:00<?, ?B/s]"
      ]
     },
     "metadata": {},
     "output_type": "display_data"
    }
   ],
   "source": [
    "import torch\n",
    "from diffusers import (\n",
    "    StableDiffusionXLPipeline, \n",
    "    KDPM2AncestralDiscreteScheduler,\n",
    "    AutoencoderKL\n",
    ")\n",
    "\n",
    "# Load VAE component\n",
    "vae = AutoencoderKL.from_pretrained(\n",
    "    \"madebyollin/sdxl-vae-fp16-fix\", \n",
    "    torch_dtype=torch.float16\n",
    ")\n",
    "\n",
    "# Configure the pipeline\n",
    "pipe = StableDiffusionXLPipeline.from_pretrained(\n",
    "    \"Corcelio/mobius\", \n",
    "    vae=vae,\n",
    "    torch_dtype=torch.float16\n",
    ")\n",
    "pipe.scheduler = KDPM2AncestralDiscreteScheduler.from_config(pipe.scheduler.config)\n",
    "pipe.to('cuda')\n",
    "\n",
    "# Define prompts and generate image\n",
    "prompt = \"mystery\"\n",
    "negative_prompt = \"\"\n",
    "\n",
    "image = pipe(\n",
    "    prompt, \n",
    "    negative_prompt=negative_prompt, \n",
    "    width=1024,\n",
    "    height=1024,\n",
    "    guidance_scale=7,\n",
    "    num_inference_steps=50,\n",
    "    clip_skip=3\n",
    ").images[0]\n",
    "\n",
    "\n",
    "image.save(\"generated_image.png\")\n"
   ]
  },
  {
   "cell_type": "code",
   "execution_count": null,
   "metadata": {},
   "outputs": [
    {
     "data": {
      "application/vnd.jupyter.widget-view+json": {
       "model_id": "223a09d2cf6d4996932ce5657be1ca4f",
       "version_major": 2,
       "version_minor": 0
      },
      "text/plain": [
       "config.json:   0%|          | 0.00/631 [00:00<?, ?B/s]"
      ]
     },
     "metadata": {},
     "output_type": "display_data"
    },
    {
     "data": {
      "application/vnd.jupyter.widget-view+json": {
       "model_id": "691c3b11bcd6499487a4258f41d8b698",
       "version_major": 2,
       "version_minor": 0
      },
      "text/plain": [
       "diffusion_pytorch_model.safetensors:   0%|          | 0.00/335M [00:00<?, ?B/s]"
      ]
     },
     "metadata": {},
     "output_type": "display_data"
    },
    {
     "data": {
      "application/vnd.jupyter.widget-view+json": {
       "model_id": "bb61eabfc4b14f34b469f8fac5a31241",
       "version_major": 2,
       "version_minor": 0
      },
      "text/plain": [
       "model_index.json:   0%|          | 0.00/671 [00:00<?, ?B/s]"
      ]
     },
     "metadata": {},
     "output_type": "display_data"
    },
    {
     "data": {
      "application/vnd.jupyter.widget-view+json": {
       "model_id": "57de43228b3840539fd2d8d891c52a77",
       "version_major": 2,
       "version_minor": 0
      },
      "text/plain": [
       "Fetching 16 files:   0%|          | 0/16 [00:00<?, ?it/s]"
      ]
     },
     "metadata": {},
     "output_type": "display_data"
    },
    {
     "data": {
      "application/vnd.jupyter.widget-view+json": {
       "model_id": "3a5d8ca2634a481c9a5c0a40451d0091",
       "version_major": 2,
       "version_minor": 0
      },
      "text/plain": [
       "text_encoder_2/config.json:   0%|          | 0.00/570 [00:00<?, ?B/s]"
      ]
     },
     "metadata": {},
     "output_type": "display_data"
    },
    {
     "data": {
      "application/vnd.jupyter.widget-view+json": {
       "model_id": "2dbe29eb65c14fd7a05b086197b2fc86",
       "version_major": 2,
       "version_minor": 0
      },
      "text/plain": [
       "scheduler/scheduler_config.json:   0%|          | 0.00/558 [00:00<?, ?B/s]"
      ]
     },
     "metadata": {},
     "output_type": "display_data"
    },
    {
     "data": {
      "application/vnd.jupyter.widget-view+json": {
       "model_id": "9a15779b8014432ebe32c942db357e55",
       "version_major": 2,
       "version_minor": 0
      },
      "text/plain": [
       "tokenizer/tokenizer_config.json:   0%|          | 0.00/705 [00:00<?, ?B/s]"
      ]
     },
     "metadata": {},
     "output_type": "display_data"
    },
    {
     "data": {
      "application/vnd.jupyter.widget-view+json": {
       "model_id": "23fe48617fe9428ab37b204d1d9d5124",
       "version_major": 2,
       "version_minor": 0
      },
      "text/plain": [
       "tokenizer/merges.txt:   0%|          | 0.00/525k [00:00<?, ?B/s]"
      ]
     },
     "metadata": {},
     "output_type": "display_data"
    },
    {
     "data": {
      "application/vnd.jupyter.widget-view+json": {
       "model_id": "bdfb27e3f72e4a55a9bc18e7325711df",
       "version_major": 2,
       "version_minor": 0
      },
      "text/plain": [
       "text_encoder/config.json:   0%|          | 0.00/560 [00:00<?, ?B/s]"
      ]
     },
     "metadata": {},
     "output_type": "display_data"
    },
    {
     "data": {
      "application/vnd.jupyter.widget-view+json": {
       "model_id": "35143947662f4b038b2c5a623b5e0bea",
       "version_major": 2,
       "version_minor": 0
      },
      "text/plain": [
       "tokenizer/special_tokens_map.json:   0%|          | 0.00/588 [00:00<?, ?B/s]"
      ]
     },
     "metadata": {},
     "output_type": "display_data"
    },
    {
     "data": {
      "application/vnd.jupyter.widget-view+json": {
       "model_id": "80369cdfc37e4d25992359b32e5aa3f1",
       "version_major": 2,
       "version_minor": 0
      },
      "text/plain": [
       "model.safetensors:   0%|          | 0.00/492M [00:00<?, ?B/s]"
      ]
     },
     "metadata": {},
     "output_type": "display_data"
    },
    {
     "data": {
      "application/vnd.jupyter.widget-view+json": {
       "model_id": "8b43dce1f30d4a51a9c96df729d2caf6",
       "version_major": 2,
       "version_minor": 0
      },
      "text/plain": [
       "tokenizer_2/special_tokens_map.json:   0%|          | 0.00/462 [00:00<?, ?B/s]"
      ]
     },
     "metadata": {},
     "output_type": "display_data"
    },
    {
     "data": {
      "application/vnd.jupyter.widget-view+json": {
       "model_id": "2a7d28aec46f473894529c8fced350e0",
       "version_major": 2,
       "version_minor": 0
      },
      "text/plain": [
       "tokenizer/vocab.json:   0%|          | 0.00/1.06M [00:00<?, ?B/s]"
      ]
     },
     "metadata": {},
     "output_type": "display_data"
    },
    {
     "data": {
      "application/vnd.jupyter.widget-view+json": {
       "model_id": "d494c9fe8d7a41b798eaa2db4c494dba",
       "version_major": 2,
       "version_minor": 0
      },
      "text/plain": [
       "model.safetensors:   0%|          | 0.00/2.78G [00:00<?, ?B/s]"
      ]
     },
     "metadata": {},
     "output_type": "display_data"
    },
    {
     "data": {
      "application/vnd.jupyter.widget-view+json": {
       "model_id": "49281edcfcf544a08cf8f0e6003dfd1d",
       "version_major": 2,
       "version_minor": 0
      },
      "text/plain": [
       "tokenizer_2/tokenizer_config.json:   0%|          | 0.00/856 [00:00<?, ?B/s]"
      ]
     },
     "metadata": {},
     "output_type": "display_data"
    },
    {
     "data": {
      "application/vnd.jupyter.widget-view+json": {
       "model_id": "ee400cbda0fc466a9e68f4ce9c4c1311",
       "version_major": 2,
       "version_minor": 0
      },
      "text/plain": [
       "unet/config.json:   0%|          | 0.00/1.77k [00:00<?, ?B/s]"
      ]
     },
     "metadata": {},
     "output_type": "display_data"
    },
    {
     "data": {
      "application/vnd.jupyter.widget-view+json": {
       "model_id": "d38ce957ed724daaa0d1e6c38c5d9f3c",
       "version_major": 2,
       "version_minor": 0
      },
      "text/plain": [
       "diffusion_pytorch_model.safetensors:   0%|          | 0.00/10.3G [00:00<?, ?B/s]"
      ]
     },
     "metadata": {},
     "output_type": "display_data"
    }
   ],
   "source": [
    "import torch\n",
    "from diffusers import (\n",
    "    StableDiffusionXLPipeline, \n",
    "    KDPM2AncestralDiscreteScheduler,\n",
    "    AutoencoderKL\n",
    ")\n",
    "\n",
    "# Load VAE component\n",
    "vae = AutoencoderKL.from_pretrained(\n",
    "    \"madebyollin/sdxl-vae-fp16-fix\", \n",
    "    torch_dtype=torch.float16\n",
    ")\n",
    "\n",
    "# Configure the pipeline\n",
    "pipe = StableDiffusionXLPipeline.from_pretrained(\n",
    "    \"Corcelio/mobius\", \n",
    "    vae=vae,\n",
    "    torch_dtype=torch.float16\n",
    ")\n",
    "pipe.scheduler = KDPM2AncestralDiscreteScheduler.from_config(pipe.scheduler.config)\n",
    "pipe.to('cuda')\n",
    "\n",
    "# Define prompts and generate image\n",
    "prompt = \"mystery\"\n",
    "negative_prompt = \"\"\n",
    "\n",
    "image = pipe(\n",
    "    prompt, \n",
    "    negative_prompt=negative_prompt, \n",
    "    width=1024,\n",
    "    height=1024,\n",
    "    guidance_scale=7,\n",
    "    num_inference_steps=50,\n",
    "    clip_skip=3\n",
    ").images[0]\n",
    "\n",
    "\n",
    "image.save(\"generated_image.png\")\n"
   ]
  },
  {
   "cell_type": "code",
   "execution_count": null,
   "metadata": {},
   "outputs": [],
   "source": [
    "from diffusers import DiffusionPipeline\n",
    "\n",
    "pipeline = DiffusionPipeline.from_pretrained(\"runwayml/stable-diffusion-v1-5\")\n"
   ]
  },
  {
   "cell_type": "code",
   "execution_count": null,
   "metadata": {},
   "outputs": [],
   "source": [
    "from diffusers import StableDiffusionPipeline\n",
    "import torch\n",
    "\n",
    "model_id = \"runwayml/stable-diffusion-v1-5\"\n",
    "pipe = StableDiffusionPipeline.from_pretrained(model_id, torch_dtype=torch.float16)\n",
    "pipe = pipe.to(\"cuda\")\n",
    "\n",
    "prompt = \"a cat with blue eyes laying on a sofa\"\n",
    "image = pipe(prompt).images[0]  \n",
    "    \n",
    "image.save(\"astronaut_rides_horse.png\")"
   ]
  }
 ],
 "metadata": {
  "kernelspec": {
   "display_name": "Python 3",
   "language": "python",
   "name": "python3"
  },
  "language_info": {
   "codemirror_mode": {
    "name": "ipython",
    "version": 3
   },
   "file_extension": ".py",
   "mimetype": "text/x-python",
   "name": "python",
   "nbconvert_exporter": "python",
   "pygments_lexer": "ipython3",
   "version": "3.12.0"
  }
 },
 "nbformat": 4,
 "nbformat_minor": 2
}
