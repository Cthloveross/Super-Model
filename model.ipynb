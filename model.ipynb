{
 "cells": [
  {
   "cell_type": "code",
   "execution_count": 2,
   "metadata": {},
   "outputs": [],
   "source": [
    "import os\n",
    "import random\n",
    "import shutil\n",
    "\n",
    "\n",
    "\n",
    "swam_path = \"dataset/swan\"\n",
    "# Randomly select 40 images\n",
    "\n",
    "# List all files in the directory\n",
    "all_files = os.listdir(swam_path)\n",
    "\n",
    "# Filter only image files (assuming they have extensions like .jpg, .png, etc.)\n",
    "image_files = [f for f in all_files if f.endswith(('.jpg', '.jpeg', '.png', '.bmp', '.gif'))]\n",
    "\n",
    "selected_images = random.sample(image_files, 40)\n",
    "\n",
    "# Define the path to the new directory\n",
    "selected_path = \"dataset/selected_swan_images\"\n",
    "\n",
    "# Create the directory if it doesn't exist\n",
    "os.makedirs(selected_path, exist_ok=True)\n",
    "\n",
    "# Copy the selected images to the new directory\n",
    "for image in selected_images:\n",
    "    shutil.copy(os.path.join(swam_path, image), os.path.join(selected_path, image))\n",
    "\n",
    "print(f\"Selected {len(selected_images)} images and copied them to {selected_path}\")\n",
    "\n"
   ]
  },
  {
   "cell_type": "code",
   "execution_count": 31,
   "metadata": {},
   "outputs": [
    {
     "name": "stdout",
     "output_type": "stream",
     "text": [
      "Conditional Caption: a photography of a cat yawning with its mouth open\n",
      "Unconditional Caption: there is a cat that is yawning and looking at the camera\n",
      "Caption: there is an orange and white cat yawning with its mouth wide open while sitting on top of a window\n"
     ]
    }
   ],
   "source": [
    "import requests\n",
    "from PIL import Image\n",
    "from transformers import BlipProcessor, BlipForConditionalGeneration\n",
    "\n",
    "\n",
    "\n",
    "# Load the processor and model\n",
    "processor = BlipProcessor.from_pretrained(\"Salesforce/blip-image-captioning-large\")\n",
    "model = BlipForConditionalGeneration.from_pretrained(\"Salesforce/blip-image-captioning-large\")\n",
    "\n",
    "# Load and preprocess the image from local file\n",
    "image_path = \"cat1.jpg\"  # Replace with your image path\n",
    "raw_image = Image.open(image_path).convert(\"RGB\")  # Ensure the image is in RGB mode\n",
    "\n",
    "# Conditional image captioning\n",
    "text = \"a photography of\"\n",
    "inputs = processor(raw_image, text, return_tensors=\"pt\")\n",
    "\n",
    "out = model.generate(**inputs)\n",
    "conditional_caption = processor.decode(out[0], skip_special_tokens=True)\n",
    "print(\"Conditional Caption:\", conditional_caption)\n",
    "\n",
    "# Unconditional image captioning\n",
    "inputs = processor(raw_image, return_tensors=\"pt\")\n",
    "\n",
    "out = model.generate(**inputs)\n",
    "unconditional_caption = processor.decode(out[0], skip_special_tokens=True)\n",
    "print(\"Unconditional Caption:\", unconditional_caption)\n",
    "\n",
    "# Generate caption with minimum and maximum length settings\n",
    "inputs = processor(raw_image, return_tensors=\"pt\")\n",
    "\n",
    "generated_ids = model.generate(\n",
    "    **inputs,\n",
    "    min_length=25,  # Set a minimum length to encourage longer captions\n",
    "    max_length=100,  # Set a maximum length to avoid excessively long captions\n",
    "    num_beams=5,  # Use beam search to improve the quality of the generated caption\n",
    "    no_repeat_ngram_size=2,  # Avoid repeating n-grams of the specified size\n",
    "    early_stopping=True  # Stop early when the end token is generated\n",
    ")\n",
    "\n",
    "caption = processor.decode(generated_ids[0], skip_special_tokens=True)\n",
    "\n",
    "# Ensure the caption has exactly 20 words, adjusting if necessary\n",
    "words = caption.split()\n",
    "if len(words) > 20:\n",
    "    caption = ' '.join(words[:20])\n",
    "elif len(words) < 20:\n",
    "    # Optionally, pad with additional words or symbols if less than 20\n",
    "    caption = ' '.join(words + ['<pad>'] * (20 - len(words)))\n",
    "\n",
    "print(\"Caption:\", caption)\n"
   ]
  },
  {
   "cell_type": "code",
   "execution_count": null,
   "metadata": {},
   "outputs": [],
   "source": []
  },
  {
   "cell_type": "code",
   "execution_count": null,
   "metadata": {},
   "outputs": [],
   "source": []
  }
 ],
 "metadata": {
  "kernelspec": {
   "display_name": "Python 3",
   "language": "python",
   "name": "python3"
  },
  "language_info": {
   "codemirror_mode": {
    "name": "ipython",
    "version": 3
   },
   "file_extension": ".py",
   "mimetype": "text/x-python",
   "name": "python",
   "nbconvert_exporter": "python",
   "pygments_lexer": "ipython3",
   "version": "3.12.0"
  }
 },
 "nbformat": 4,
 "nbformat_minor": 2
}
