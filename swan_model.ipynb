{
 "cells": [
  {
   "cell_type": "code",
   "execution_count": null,
   "id": "fe05440f",
   "metadata": {},
   "outputs": [
    {
     "name": "stderr",
     "output_type": "stream",
     "text": [
      "2024-06-14 07:09:02.056436: I tensorflow/core/platform/cpu_feature_guard.cc:182] This TensorFlow binary is optimized to use available CPU instructions in performance-critical operations.\n",
      "To enable the following instructions: AVX2 FMA, in other operations, rebuild TensorFlow with the appropriate compiler flags.\n",
      "/home/tic001/.local/lib/python3.9/site-packages/diffusers/models/transformers/transformer_2d.py:34: FutureWarning: `Transformer2DModelOutput` is deprecated and will be removed in version 1.0.0. Importing `Transformer2DModelOutput` from `diffusers.models.transformer_2d` is deprecated and this will be removed in a future version. Please use `from diffusers.models.modeling_outputs import Transformer2DModelOutput`, instead.\n",
      "  deprecate(\"Transformer2DModelOutput\", \"1.0.0\", deprecation_message)\n"
     ]
    },
    {
     "data": {
      "application/vnd.jupyter.widget-view+json": {
       "model_id": "631b3e71d97e4f37b5772b2b87fb1243",
       "version_major": 2,
       "version_minor": 0
      },
      "text/plain": [
       "Loading pipeline components...:   0%|          | 0/7 [00:00<?, ?it/s]"
      ]
     },
     "metadata": {},
     "output_type": "display_data"
    },
    {
     "name": "stderr",
     "output_type": "stream",
     "text": [
      "/home/tic001/.local/lib/python3.9/site-packages/huggingface_hub/file_download.py:1132: FutureWarning: `resume_download` is deprecated and will be removed in version 1.0.0. Downloads always resume when possible. If you want to force a new download, use `force_download=True`.\n",
      "  warnings.warn(\n",
      "/opt/conda/lib/python3.9/site-packages/torch/_utils.py:831: UserWarning: TypedStorage is deprecated. It will be removed in the future and UntypedStorage will be the only storage class. This should only matter to you if you are using storages directly.  To access UntypedStorage directly, use tensor.untyped_storage() instead of tensor.storage()\n",
      "  return self.fget.__get__(instance, owner)()\n"
     ]
    },
    {
     "name": "stdout",
     "output_type": "stream",
     "text": [
      "Processing dataset: captions_20to40.csv, saving to: swan_gener_image_20to40\n"
     ]
    },
    {
     "data": {
      "application/vnd.jupyter.widget-view+json": {
       "model_id": "289f82ceb8a344c9a8c388d75e1dc67f",
       "version_major": 2,
       "version_minor": 0
      },
      "text/plain": [
       "  0%|          | 0/50 [00:00<?, ?it/s]"
      ]
     },
     "metadata": {},
     "output_type": "display_data"
    },
    {
     "name": "stdout",
     "output_type": "stream",
     "text": [
      "Saved generated image: swan_gener_image_20to40/1_swan.jpg\n",
      "CLIP score for 1_swan.jpg: 30.513526916503906\n"
     ]
    },
    {
     "data": {
      "application/vnd.jupyter.widget-view+json": {
       "model_id": "88224d4429cc442faa451f6dddc38348",
       "version_major": 2,
       "version_minor": 0
      },
      "text/plain": [
       "  0%|          | 0/50 [00:00<?, ?it/s]"
      ]
     },
     "metadata": {},
     "output_type": "display_data"
    },
    {
     "name": "stdout",
     "output_type": "stream",
     "text": [
      "Saved generated image: swan_gener_image_20to40/6_swan.jpg\n",
      "CLIP score for 6_swan.jpg: 29.18892478942871\n"
     ]
    },
    {
     "data": {
      "application/vnd.jupyter.widget-view+json": {
       "model_id": "13384ed534d54bc3ad5c6238f685e03e",
       "version_major": 2,
       "version_minor": 0
      },
      "text/plain": [
       "  0%|          | 0/50 [00:00<?, ?it/s]"
      ]
     },
     "metadata": {},
     "output_type": "display_data"
    },
    {
     "name": "stdout",
     "output_type": "stream",
     "text": [
      "Saved generated image: swan_gener_image_20to40/3_swan.jpg\n",
      "CLIP score for 3_swan.jpg: 29.3155460357666\n"
     ]
    },
    {
     "data": {
      "application/vnd.jupyter.widget-view+json": {
       "model_id": "cc249690a52c4ed295173abce5bf51f9",
       "version_major": 2,
       "version_minor": 0
      },
      "text/plain": [
       "  0%|          | 0/50 [00:00<?, ?it/s]"
      ]
     },
     "metadata": {},
     "output_type": "display_data"
    },
    {
     "name": "stdout",
     "output_type": "stream",
     "text": [
      "Saved generated image: swan_gener_image_20to40/2_swan.jpg\n",
      "CLIP score for 2_swan.jpg: 29.39061164855957\n"
     ]
    },
    {
     "data": {
      "application/vnd.jupyter.widget-view+json": {
       "model_id": "7c252339bb0f4c309f59b04c7fc185dd",
       "version_major": 2,
       "version_minor": 0
      },
      "text/plain": [
       "  0%|          | 0/50 [00:00<?, ?it/s]"
      ]
     },
     "metadata": {},
     "output_type": "display_data"
    },
    {
     "name": "stdout",
     "output_type": "stream",
     "text": [
      "Saved generated image: swan_gener_image_20to40/18_swan.jpg\n",
      "CLIP score for 18_swan.jpg: 30.009960174560547\n"
     ]
    },
    {
     "data": {
      "application/vnd.jupyter.widget-view+json": {
       "model_id": "08c48db678ff4aa591189697affbb2f7",
       "version_major": 2,
       "version_minor": 0
      },
      "text/plain": [
       "  0%|          | 0/50 [00:00<?, ?it/s]"
      ]
     },
     "metadata": {},
     "output_type": "display_data"
    },
    {
     "name": "stdout",
     "output_type": "stream",
     "text": [
      "Saved generated image: swan_gener_image_20to40/16_swan.jpg\n",
      "CLIP score for 16_swan.jpg: 33.898868560791016\n"
     ]
    },
    {
     "data": {
      "application/vnd.jupyter.widget-view+json": {
       "model_id": "02b36484c0ad402cacb284d13d061bfe",
       "version_major": 2,
       "version_minor": 0
      },
      "text/plain": [
       "  0%|          | 0/50 [00:00<?, ?it/s]"
      ]
     },
     "metadata": {},
     "output_type": "display_data"
    },
    {
     "name": "stdout",
     "output_type": "stream",
     "text": [
      "Saved generated image: swan_gener_image_20to40/13_swan.jpg\n",
      "CLIP score for 13_swan.jpg: 33.685020446777344\n"
     ]
    },
    {
     "data": {
      "application/vnd.jupyter.widget-view+json": {
       "model_id": "41c0ec6b2ade4c8cb0fe210b15272890",
       "version_major": 2,
       "version_minor": 0
      },
      "text/plain": [
       "  0%|          | 0/50 [00:00<?, ?it/s]"
      ]
     },
     "metadata": {},
     "output_type": "display_data"
    },
    {
     "name": "stdout",
     "output_type": "stream",
     "text": [
      "Saved generated image: swan_gener_image_20to40/7_swan.jpg\n",
      "CLIP score for 7_swan.jpg: 27.10671615600586\n"
     ]
    },
    {
     "data": {
      "application/vnd.jupyter.widget-view+json": {
       "model_id": "5c0af58a659c48d3b526ec797952935a",
       "version_major": 2,
       "version_minor": 0
      },
      "text/plain": [
       "  0%|          | 0/50 [00:00<?, ?it/s]"
      ]
     },
     "metadata": {},
     "output_type": "display_data"
    },
    {
     "name": "stdout",
     "output_type": "stream",
     "text": [
      "Saved generated image: swan_gener_image_20to40/10_swan.jpg\n",
      "CLIP score for 10_swan.jpg: 29.764101028442383\n"
     ]
    },
    {
     "data": {
      "application/vnd.jupyter.widget-view+json": {
       "model_id": "658ed2bd33904bcf9e015b7b4c7a0bcf",
       "version_major": 2,
       "version_minor": 0
      },
      "text/plain": [
       "  0%|          | 0/50 [00:00<?, ?it/s]"
      ]
     },
     "metadata": {},
     "output_type": "display_data"
    },
    {
     "name": "stdout",
     "output_type": "stream",
     "text": [
      "Saved generated image: swan_gener_image_20to40/11_swan.jpg\n",
      "CLIP score for 11_swan.jpg: 27.844850540161133\n",
      "Average CLIP score for captions_20to40.csv: 30.071812629699707\n"
     ]
    },
    {
     "name": "stderr",
     "output_type": "stream",
     "text": [
      "Creating feature extractor \"inception-v3-compat\" with features ['logits_unbiased']\n",
      "Extracting features from input1\n",
      "Looking for samples non-recursivelty in \"temp_images\" with extensions png,jpg,jpeg\n",
      "Found 10 samples\n",
      "Processing samples                                                      \n",
      "Inception Score: 1.0 ± 4.965068306494546e-17\n"
     ]
    },
    {
     "name": "stdout",
     "output_type": "stream",
     "text": [
      "Inception Score: 1.0 ± 4.965068306494546e-17\n",
      "Saved image info to: swan_gener_image_20to40/image_info.csv\n",
      "Average CLIP score for swan_gener_image_20to40: 30.071812629699707\n",
      "Processing dataset: captions_40to60.csv, saving to: swan_gener_image_40to60\n"
     ]
    },
    {
     "data": {
      "application/vnd.jupyter.widget-view+json": {
       "model_id": "358921ddb758439eb0ae14819ae9f1fb",
       "version_major": 2,
       "version_minor": 0
      },
      "text/plain": [
       "  0%|          | 0/50 [00:00<?, ?it/s]"
      ]
     },
     "metadata": {},
     "output_type": "display_data"
    },
    {
     "name": "stdout",
     "output_type": "stream",
     "text": [
      "Saved generated image: swan_gener_image_40to60/9_swan.jpg\n",
      "CLIP score for 9_swan.jpg: 32.89228820800781\n"
     ]
    },
    {
     "data": {
      "application/vnd.jupyter.widget-view+json": {
       "model_id": "34ef4af7ca5d4938b97d9172a4af5d0d",
       "version_major": 2,
       "version_minor": 0
      },
      "text/plain": [
       "  0%|          | 0/50 [00:00<?, ?it/s]"
      ]
     },
     "metadata": {},
     "output_type": "display_data"
    },
    {
     "name": "stdout",
     "output_type": "stream",
     "text": [
      "Saved generated image: swan_gener_image_40to60/5_swan.jpg\n",
      "CLIP score for 5_swan.jpg: 31.9433536529541\n"
     ]
    },
    {
     "data": {
      "application/vnd.jupyter.widget-view+json": {
       "model_id": "2338f9ca1f454335a25f2639d9706fd1",
       "version_major": 2,
       "version_minor": 0
      },
      "text/plain": [
       "  0%|          | 0/50 [00:00<?, ?it/s]"
      ]
     },
     "metadata": {},
     "output_type": "display_data"
    },
    {
     "name": "stdout",
     "output_type": "stream",
     "text": [
      "Saved generated image: swan_gener_image_40to60/11_swan.jpg\n",
      "CLIP score for 11_swan.jpg: 28.485851287841797\n"
     ]
    },
    {
     "data": {
      "application/vnd.jupyter.widget-view+json": {
       "model_id": "f40348131b9d41c8a065cee65218be42",
       "version_major": 2,
       "version_minor": 0
      },
      "text/plain": [
       "  0%|          | 0/50 [00:00<?, ?it/s]"
      ]
     },
     "metadata": {},
     "output_type": "display_data"
    }
   ],
   "source": [
    "import os\n",
    "import pandas as pd\n",
    "from diffusers import StableDiffusionPipeline\n",
    "import torch\n",
    "from PIL import Image\n",
    "from transformers import CLIPProcessor, CLIPModel\n",
    "import numpy as np\n",
    "import torchvision.transforms as transforms\n",
    "from torch_fidelity import calculate_metrics\n",
    "import shutil\n",
    "\n",
    "# Disable tokenizers parallelism warning\n",
    "os.environ[\"TOKENIZERS_PARALLELISM\"] = \"false\"\n",
    "\n",
    "# Load the Stable Diffusion pipeline\n",
    "model_id = \"runwayml/stable-diffusion-v1-5\"\n",
    "pipe = StableDiffusionPipeline.from_pretrained(model_id, torch_dtype=torch.float16)\n",
    "pipe = pipe.to(\"cuda\")\n",
    "\n",
    "# Load the CLIP model and processor\n",
    "clip_model = CLIPModel.from_pretrained(\"openai/clip-vit-base-patch32\")\n",
    "clip_processor = CLIPProcessor.from_pretrained(\"openai/clip-vit-base-patch32\")\n",
    "\n",
    "# Define the paths to your datasets and the output directory\n",
    "dataset_files = [\"captions_20to40.csv\",\"captions_40to60.csv\", \"captions_60to80.csv\"]\n",
    "output_dirs = [\"swan_gener_image_20to40\", \"swan_gener_image_40to60\", \"swan_gener_image_60to80\"]\n",
    "\n",
    "# Define a function to calculate CLIP score\n",
    "def calculate_clip_score(image, text):\n",
    "    inputs = clip_processor(text=[text], images=image, return_tensors=\"pt\")\n",
    "    outputs = clip_model(**inputs)\n",
    "    logits_per_image = outputs.logits_per_image\n",
    "    return logits_per_image.item()\n",
    "\n",
    "# Iterate over each dataset file\n",
    "for dataset_path, output_dir in zip(dataset_files, output_dirs):\n",
    "    # Create the output directory if it doesn't exist\n",
    "    os.makedirs(output_dir, exist_ok=True)\n",
    "    print(f\"Processing dataset: {dataset_path}, saving to: {output_dir}\")\n",
    "\n",
    "    # Read the CSV file\n",
    "    data = pd.read_csv(dataset_path)\n",
    "\n",
    "    # Initialize lists for storing images and captions for Inception Score calculation\n",
    "    generated_images = []\n",
    "\n",
    "    # List to store image info\n",
    "    image_info = []\n",
    "\n",
    "    # List to store CLIP scores\n",
    "    clip_scores = []\n",
    "\n",
    "    # Iterate over each row in the CSV file\n",
    "    for index, row in data.iterrows():\n",
    "        image_name = row['image']\n",
    "        caption = row['caption']\n",
    "\n",
    "        # Generate the image using the caption\n",
    "        generated_image = pipe(caption).images[0]\n",
    "        generated_images.append(generated_image)\n",
    "\n",
    "        # Create a unique output file name\n",
    "        output_file_name = image_name\n",
    "        output_path = os.path.join(output_dir, output_file_name)\n",
    "        \n",
    "        # Save the generated image to the output directory\n",
    "        generated_image.save(output_path)\n",
    "        print(f\"Saved generated image: {output_path}\")\n",
    "\n",
    "        # Calculate and print the CLIP score\n",
    "        clip_score = calculate_clip_score(generated_image, caption)\n",
    "        print(f\"CLIP score for {output_file_name}: {clip_score}\")\n",
    "\n",
    "        # Store the CLIP score\n",
    "        clip_scores.append(clip_score)\n",
    "\n",
    "        # Store the information in the list\n",
    "        image_info.append({\n",
    "            'image_name': output_file_name,\n",
    "            'caption': caption,\n",
    "            'clip_score': clip_score\n",
    "        })\n",
    "\n",
    "    # Calculate the average CLIP score\n",
    "    average_clip_score = np.mean(clip_scores)\n",
    "    print(f\"Average CLIP score for {dataset_path}: {average_clip_score}\")\n",
    "\n",
    "    # Preprocess images for Inception Score calculation\n",
    "    preprocessed_images = [transforms.ToTensor()(img).unsqueeze(0) for img in generated_images]\n",
    "    preprocessed_images = torch.cat(preprocessed_images, dim=0).to(\"cuda\")\n",
    "\n",
    "    # Save preprocessed images to a temporary directory\n",
    "    temp_dir = \"temp_images\"\n",
    "    os.makedirs(temp_dir, exist_ok=True)\n",
    "    for i, img in enumerate(preprocessed_images):\n",
    "        img_pil = transforms.ToPILImage()(img)\n",
    "        img_pil.save(os.path.join(temp_dir, f\"img_{i}.png\"))\n",
    "\n",
    "    # Calculate Inception Score using torch-fidelity\n",
    "    metrics = calculate_metrics(input1=temp_dir, input1_model=\"inception-v3\", isc=True)\n",
    "    inception_score = metrics[\"inception_score_mean\"]\n",
    "    inception_score_std = metrics[\"inception_score_std\"]\n",
    "    print(f\"Inception Score: {inception_score} ± {inception_score_std}\")\n",
    "\n",
    "    # Clean up temporary directory\n",
    "    shutil.rmtree(temp_dir)\n",
    "\n",
    "    # Add Inception Score to the image info list\n",
    "    image_info.append({\n",
    "        'inception_score': inception_score,\n",
    "        'inception_score_std': inception_score_std\n",
    "    })\n",
    "\n",
    "    # Save the image info to a CSV file\n",
    "    image_info_df = pd.DataFrame(image_info)\n",
    "    image_info_csv_path = os.path.join(output_dir, 'image_info.csv')\n",
    "    image_info_df.to_csv(image_info_csv_path, index=False)\n",
    "    print(f\"Saved image info to: {image_info_csv_path}\")\n",
    "\n",
    "    # Print the average CLIP score\n",
    "    print(f\"Average CLIP score for {output_dir}: {average_clip_score}\")\n"
   ]
  },
  {
   "cell_type": "code",
   "execution_count": null,
   "id": "68bf03a1",
   "metadata": {},
   "outputs": [],
   "source": []
  }
 ],
 "metadata": {
  "kernelspec": {
   "display_name": "Python 3 (ipykernel)",
   "language": "python",
   "name": "python3"
  },
  "language_info": {
   "codemirror_mode": {
    "name": "ipython",
    "version": 3
   },
   "file_extension": ".py",
   "mimetype": "text/x-python",
   "name": "python",
   "nbconvert_exporter": "python",
   "pygments_lexer": "ipython3",
   "version": "3.9.5"
  }
 },
 "nbformat": 4,
 "nbformat_minor": 5
}
