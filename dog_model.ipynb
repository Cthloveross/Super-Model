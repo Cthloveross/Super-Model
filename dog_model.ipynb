{
 "cells": [
  {
   "cell_type": "code",
   "execution_count": 1,
   "id": "93d0b221",
   "metadata": {},
   "outputs": [
    {
     "name": "stderr",
     "output_type": "stream",
     "text": [
      "2024-06-14 06:31:12.075205: I tensorflow/core/platform/cpu_feature_guard.cc:182] This TensorFlow binary is optimized to use available CPU instructions in performance-critical operations.\n",
      "To enable the following instructions: AVX2 FMA, in other operations, rebuild TensorFlow with the appropriate compiler flags.\n",
      "/home/tic001/.local/lib/python3.9/site-packages/diffusers/models/transformers/transformer_2d.py:34: FutureWarning: `Transformer2DModelOutput` is deprecated and will be removed in version 1.0.0. Importing `Transformer2DModelOutput` from `diffusers.models.transformer_2d` is deprecated and this will be removed in a future version. Please use `from diffusers.models.modeling_outputs import Transformer2DModelOutput`, instead.\n",
      "  deprecate(\"Transformer2DModelOutput\", \"1.0.0\", deprecation_message)\n"
     ]
    },
    {
     "data": {
      "application/vnd.jupyter.widget-view+json": {
       "model_id": "98a55e71b72841d2afd113182883471c",
       "version_major": 2,
       "version_minor": 0
      },
      "text/plain": [
       "Loading pipeline components...:   0%|          | 0/7 [00:00<?, ?it/s]"
      ]
     },
     "metadata": {},
     "output_type": "display_data"
    },
    {
     "name": "stderr",
     "output_type": "stream",
     "text": [
      "/home/tic001/.local/lib/python3.9/site-packages/huggingface_hub/file_download.py:1132: FutureWarning: `resume_download` is deprecated and will be removed in version 1.0.0. Downloads always resume when possible. If you want to force a new download, use `force_download=True`.\n",
      "  warnings.warn(\n",
      "/opt/conda/lib/python3.9/site-packages/torch/_utils.py:831: UserWarning: TypedStorage is deprecated. It will be removed in the future and UntypedStorage will be the only storage class. This should only matter to you if you are using storages directly.  To access UntypedStorage directly, use tensor.untyped_storage() instead of tensor.storage()\n",
      "  return self.fget.__get__(instance, owner)()\n"
     ]
    },
    {
     "name": "stdout",
     "output_type": "stream",
     "text": [
      "Processing dataset: captions_20to40.csv, saving to: dog_gener_image_20to40\n"
     ]
    },
    {
     "data": {
      "application/vnd.jupyter.widget-view+json": {
       "model_id": "95bb06b079ea408ab02d66ddbae25c78",
       "version_major": 2,
       "version_minor": 0
      },
      "text/plain": [
       "  0%|          | 0/50 [00:00<?, ?it/s]"
      ]
     },
     "metadata": {},
     "output_type": "display_data"
    },
    {
     "name": "stdout",
     "output_type": "stream",
     "text": [
      "Saved generated image: dog_gener_image_20to40/5_dog.jpg\n",
      "CLIP score for 5_dog.jpg: 28.338825225830078\n"
     ]
    },
    {
     "data": {
      "application/vnd.jupyter.widget-view+json": {
       "model_id": "fe196b13c94745539e92f6b7a32ec96e",
       "version_major": 2,
       "version_minor": 0
      },
      "text/plain": [
       "  0%|          | 0/50 [00:00<?, ?it/s]"
      ]
     },
     "metadata": {},
     "output_type": "display_data"
    },
    {
     "name": "stdout",
     "output_type": "stream",
     "text": [
      "Saved generated image: dog_gener_image_20to40/15_dog.jpg\n",
      "CLIP score for 15_dog.jpg: 37.8287353515625\n"
     ]
    },
    {
     "data": {
      "application/vnd.jupyter.widget-view+json": {
       "model_id": "2db546a1dc834bd3b1a878ddd6925955",
       "version_major": 2,
       "version_minor": 0
      },
      "text/plain": [
       "  0%|          | 0/50 [00:00<?, ?it/s]"
      ]
     },
     "metadata": {},
     "output_type": "display_data"
    },
    {
     "name": "stdout",
     "output_type": "stream",
     "text": [
      "Saved generated image: dog_gener_image_20to40/17_dog.jpg\n",
      "CLIP score for 17_dog.jpg: 31.945594787597656\n"
     ]
    },
    {
     "data": {
      "application/vnd.jupyter.widget-view+json": {
       "model_id": "39359fd15aec4541954cb20c0e004604",
       "version_major": 2,
       "version_minor": 0
      },
      "text/plain": [
       "  0%|          | 0/50 [00:00<?, ?it/s]"
      ]
     },
     "metadata": {},
     "output_type": "display_data"
    },
    {
     "name": "stdout",
     "output_type": "stream",
     "text": [
      "Saved generated image: dog_gener_image_20to40/13_dog.jpg\n",
      "CLIP score for 13_dog.jpg: 27.944067001342773\n"
     ]
    },
    {
     "data": {
      "application/vnd.jupyter.widget-view+json": {
       "model_id": "1d50be5e0f8147aeb4b2ccd61c8b0923",
       "version_major": 2,
       "version_minor": 0
      },
      "text/plain": [
       "  0%|          | 0/50 [00:00<?, ?it/s]"
      ]
     },
     "metadata": {},
     "output_type": "display_data"
    },
    {
     "name": "stdout",
     "output_type": "stream",
     "text": [
      "Saved generated image: dog_gener_image_20to40/14_dog.jpg\n",
      "CLIP score for 14_dog.jpg: 26.746850967407227\n"
     ]
    },
    {
     "data": {
      "application/vnd.jupyter.widget-view+json": {
       "model_id": "f93166a2fc334305bcf0d2a26f48fb70",
       "version_major": 2,
       "version_minor": 0
      },
      "text/plain": [
       "  0%|          | 0/50 [00:00<?, ?it/s]"
      ]
     },
     "metadata": {},
     "output_type": "display_data"
    },
    {
     "name": "stdout",
     "output_type": "stream",
     "text": [
      "Saved generated image: dog_gener_image_20to40/12_dog.jpg\n",
      "CLIP score for 12_dog.jpg: 35.50504684448242\n"
     ]
    },
    {
     "data": {
      "application/vnd.jupyter.widget-view+json": {
       "model_id": "42c15fb1fef74da1bb8e9ea72791c3df",
       "version_major": 2,
       "version_minor": 0
      },
      "text/plain": [
       "  0%|          | 0/50 [00:00<?, ?it/s]"
      ]
     },
     "metadata": {},
     "output_type": "display_data"
    },
    {
     "name": "stdout",
     "output_type": "stream",
     "text": [
      "Saved generated image: dog_gener_image_20to40/1_dog.jpg\n",
      "CLIP score for 1_dog.jpg: 31.08976936340332\n"
     ]
    },
    {
     "data": {
      "application/vnd.jupyter.widget-view+json": {
       "model_id": "819de58e67ae4664a928ce0ac59a61f5",
       "version_major": 2,
       "version_minor": 0
      },
      "text/plain": [
       "  0%|          | 0/50 [00:00<?, ?it/s]"
      ]
     },
     "metadata": {},
     "output_type": "display_data"
    },
    {
     "name": "stdout",
     "output_type": "stream",
     "text": [
      "Saved generated image: dog_gener_image_20to40/18_dog.jpg\n",
      "CLIP score for 18_dog.jpg: 27.53058624267578\n"
     ]
    },
    {
     "data": {
      "application/vnd.jupyter.widget-view+json": {
       "model_id": "ab9728a401854aad819c5e398284127c",
       "version_major": 2,
       "version_minor": 0
      },
      "text/plain": [
       "  0%|          | 0/50 [00:00<?, ?it/s]"
      ]
     },
     "metadata": {},
     "output_type": "display_data"
    },
    {
     "name": "stdout",
     "output_type": "stream",
     "text": [
      "Saved generated image: dog_gener_image_20to40/3_dog.jpg\n",
      "CLIP score for 3_dog.jpg: 33.88639831542969\n"
     ]
    },
    {
     "data": {
      "application/vnd.jupyter.widget-view+json": {
       "model_id": "3346cd45bdea463dbdae46406610bf35",
       "version_major": 2,
       "version_minor": 0
      },
      "text/plain": [
       "  0%|          | 0/50 [00:00<?, ?it/s]"
      ]
     },
     "metadata": {},
     "output_type": "display_data"
    },
    {
     "name": "stdout",
     "output_type": "stream",
     "text": [
      "Saved generated image: dog_gener_image_20to40/4_dog.jpg\n",
      "CLIP score for 4_dog.jpg: 27.706804275512695\n",
      "Average CLIP score for captions_20to40.csv: 30.852267837524415\n"
     ]
    },
    {
     "name": "stderr",
     "output_type": "stream",
     "text": [
      "Creating feature extractor \"inception-v3-compat\" with features ['logits_unbiased']\n",
      "Extracting features from input1\n",
      "Looking for samples non-recursivelty in \"temp_images\" with extensions png,jpg,jpeg\n",
      "Found 10 samples\n",
      "Processing samples                                                      \n",
      "Inception Score: 1.0 ± 1.0532500405730103e-16\n"
     ]
    },
    {
     "name": "stdout",
     "output_type": "stream",
     "text": [
      "Inception Score: 1.0 ± 1.0532500405730103e-16\n",
      "Saved image info to: dog_gener_image_20to40/image_info.csv\n",
      "Average CLIP score for dog_gener_image_20to40: 30.852267837524415\n",
      "Processing dataset: captions_40to60.csv, saving to: dog_gener_image_40to60\n"
     ]
    },
    {
     "data": {
      "application/vnd.jupyter.widget-view+json": {
       "model_id": "6ba934170e2541c99b36e3e26ebdb65d",
       "version_major": 2,
       "version_minor": 0
      },
      "text/plain": [
       "  0%|          | 0/50 [00:00<?, ?it/s]"
      ]
     },
     "metadata": {},
     "output_type": "display_data"
    },
    {
     "name": "stdout",
     "output_type": "stream",
     "text": [
      "Saved generated image: dog_gener_image_40to60/16_dog.jpg\n",
      "CLIP score for 16_dog.jpg: 36.41520309448242\n"
     ]
    },
    {
     "data": {
      "application/vnd.jupyter.widget-view+json": {
       "model_id": "825813d3c09547dc806b8de759c2e751",
       "version_major": 2,
       "version_minor": 0
      },
      "text/plain": [
       "  0%|          | 0/50 [00:00<?, ?it/s]"
      ]
     },
     "metadata": {},
     "output_type": "display_data"
    },
    {
     "name": "stdout",
     "output_type": "stream",
     "text": [
      "Saved generated image: dog_gener_image_40to60/15_dog.jpg\n",
      "CLIP score for 15_dog.jpg: 37.72999954223633\n"
     ]
    },
    {
     "data": {
      "application/vnd.jupyter.widget-view+json": {
       "model_id": "195d0c4906774744b7e3f801dd15b174",
       "version_major": 2,
       "version_minor": 0
      },
      "text/plain": [
       "  0%|          | 0/50 [00:00<?, ?it/s]"
      ]
     },
     "metadata": {},
     "output_type": "display_data"
    },
    {
     "name": "stdout",
     "output_type": "stream",
     "text": [
      "Saved generated image: dog_gener_image_40to60/8_dog.jpg\n",
      "CLIP score for 8_dog.jpg: 33.179893493652344\n"
     ]
    },
    {
     "data": {
      "application/vnd.jupyter.widget-view+json": {
       "model_id": "249110bcd6ad43538f4a7b9814097490",
       "version_major": 2,
       "version_minor": 0
      },
      "text/plain": [
       "  0%|          | 0/50 [00:00<?, ?it/s]"
      ]
     },
     "metadata": {},
     "output_type": "display_data"
    },
    {
     "name": "stdout",
     "output_type": "stream",
     "text": [
      "Saved generated image: dog_gener_image_40to60/6_dog.jpg\n",
      "CLIP score for 6_dog.jpg: 34.43321990966797\n"
     ]
    },
    {
     "data": {
      "application/vnd.jupyter.widget-view+json": {
       "model_id": "5396392e85cb43af937d6968c0e33c8e",
       "version_major": 2,
       "version_minor": 0
      },
      "text/plain": [
       "  0%|          | 0/50 [00:00<?, ?it/s]"
      ]
     },
     "metadata": {},
     "output_type": "display_data"
    },
    {
     "name": "stdout",
     "output_type": "stream",
     "text": [
      "Saved generated image: dog_gener_image_40to60/20_dog.jpg\n",
      "CLIP score for 20_dog.jpg: 30.435510635375977\n"
     ]
    },
    {
     "data": {
      "application/vnd.jupyter.widget-view+json": {
       "model_id": "0e579c1a6f8742a5abe7952eeb6bb6fd",
       "version_major": 2,
       "version_minor": 0
      },
      "text/plain": [
       "  0%|          | 0/50 [00:00<?, ?it/s]"
      ]
     },
     "metadata": {},
     "output_type": "display_data"
    },
    {
     "name": "stdout",
     "output_type": "stream",
     "text": [
      "Saved generated image: dog_gener_image_40to60/10_dog.jpg\n",
      "CLIP score for 10_dog.jpg: 35.11435317993164\n"
     ]
    },
    {
     "data": {
      "application/vnd.jupyter.widget-view+json": {
       "model_id": "b479a590d10e45cdbc12da5feba37c28",
       "version_major": 2,
       "version_minor": 0
      },
      "text/plain": [
       "  0%|          | 0/50 [00:00<?, ?it/s]"
      ]
     },
     "metadata": {},
     "output_type": "display_data"
    },
    {
     "name": "stdout",
     "output_type": "stream",
     "text": [
      "Saved generated image: dog_gener_image_40to60/14_dog.jpg\n",
      "CLIP score for 14_dog.jpg: 31.939970016479492\n"
     ]
    },
    {
     "data": {
      "application/vnd.jupyter.widget-view+json": {
       "model_id": "8ef281d3ab5548e7b25ff663216acadc",
       "version_major": 2,
       "version_minor": 0
      },
      "text/plain": [
       "  0%|          | 0/50 [00:00<?, ?it/s]"
      ]
     },
     "metadata": {},
     "output_type": "display_data"
    },
    {
     "name": "stdout",
     "output_type": "stream",
     "text": [
      "Saved generated image: dog_gener_image_40to60/11_dog.jpg\n",
      "CLIP score for 11_dog.jpg: 33.861663818359375\n"
     ]
    },
    {
     "data": {
      "application/vnd.jupyter.widget-view+json": {
       "model_id": "ccc9d76ff004402e8b2a76227b492553",
       "version_major": 2,
       "version_minor": 0
      },
      "text/plain": [
       "  0%|          | 0/50 [00:00<?, ?it/s]"
      ]
     },
     "metadata": {},
     "output_type": "display_data"
    },
    {
     "name": "stdout",
     "output_type": "stream",
     "text": [
      "Saved generated image: dog_gener_image_40to60/5_dog.jpg\n",
      "CLIP score for 5_dog.jpg: 30.77560806274414\n"
     ]
    },
    {
     "data": {
      "application/vnd.jupyter.widget-view+json": {
       "model_id": "975fb23834dc42b7a4bd4681f0c2fd00",
       "version_major": 2,
       "version_minor": 0
      },
      "text/plain": [
       "  0%|          | 0/50 [00:00<?, ?it/s]"
      ]
     },
     "metadata": {},
     "output_type": "display_data"
    },
    {
     "name": "stdout",
     "output_type": "stream",
     "text": [
      "Saved generated image: dog_gener_image_40to60/17_dog.jpg\n",
      "CLIP score for 17_dog.jpg: 31.758975982666016\n",
      "Average CLIP score for captions_40to60.csv: 33.56443977355957\n"
     ]
    },
    {
     "name": "stderr",
     "output_type": "stream",
     "text": [
      "Creating feature extractor \"inception-v3-compat\" with features ['logits_unbiased']\n",
      "Extracting features from input1\n",
      "Looking for samples non-recursivelty in \"temp_images\" with extensions png,jpg,jpeg\n",
      "Found 10 samples\n",
      "Processing samples                                                      \n"
     ]
    },
    {
     "name": "stdout",
     "output_type": "stream",
     "text": [
      "Inception Score: 1.0 ± 6.080941944488117e-17\n",
      "Saved image info to: dog_gener_image_40to60/image_info.csv\n",
      "Average CLIP score for dog_gener_image_40to60: 33.56443977355957\n",
      "Processing dataset: captions_60to80.csv, saving to: dog_gener_image_60to80\n"
     ]
    },
    {
     "name": "stderr",
     "output_type": "stream",
     "text": [
      "Inception Score: 1.0 ± 6.080941944488117e-17\n"
     ]
    },
    {
     "data": {
      "application/vnd.jupyter.widget-view+json": {
       "model_id": "6dd8ed749820470f8264eebbc0479878",
       "version_major": 2,
       "version_minor": 0
      },
      "text/plain": [
       "  0%|          | 0/50 [00:00<?, ?it/s]"
      ]
     },
     "metadata": {},
     "output_type": "display_data"
    },
    {
     "name": "stdout",
     "output_type": "stream",
     "text": [
      "Saved generated image: dog_gener_image_60to80/2_dog.jpg\n",
      "CLIP score for 2_dog.jpg: 35.28153991699219\n"
     ]
    },
    {
     "data": {
      "application/vnd.jupyter.widget-view+json": {
       "model_id": "f33beaa8f338457ab1ae97b3fdb92af7",
       "version_major": 2,
       "version_minor": 0
      },
      "text/plain": [
       "  0%|          | 0/50 [00:00<?, ?it/s]"
      ]
     },
     "metadata": {},
     "output_type": "display_data"
    },
    {
     "name": "stdout",
     "output_type": "stream",
     "text": [
      "Saved generated image: dog_gener_image_60to80/9_dog.jpg\n",
      "CLIP score for 9_dog.jpg: 33.252323150634766\n"
     ]
    },
    {
     "data": {
      "application/vnd.jupyter.widget-view+json": {
       "model_id": "3e1b8d2454f44898b099d9ccec5f7365",
       "version_major": 2,
       "version_minor": 0
      },
      "text/plain": [
       "  0%|          | 0/50 [00:00<?, ?it/s]"
      ]
     },
     "metadata": {},
     "output_type": "display_data"
    },
    {
     "name": "stdout",
     "output_type": "stream",
     "text": [
      "Saved generated image: dog_gener_image_60to80/11_dog.jpg\n",
      "CLIP score for 11_dog.jpg: 37.32475280761719\n"
     ]
    },
    {
     "data": {
      "application/vnd.jupyter.widget-view+json": {
       "model_id": "a0d3a9eece394fbc8fdd2cb18c616aab",
       "version_major": 2,
       "version_minor": 0
      },
      "text/plain": [
       "  0%|          | 0/50 [00:00<?, ?it/s]"
      ]
     },
     "metadata": {},
     "output_type": "display_data"
    },
    {
     "name": "stdout",
     "output_type": "stream",
     "text": [
      "Saved generated image: dog_gener_image_60to80/5_dog.jpg\n",
      "CLIP score for 5_dog.jpg: 28.98691749572754\n"
     ]
    },
    {
     "data": {
      "application/vnd.jupyter.widget-view+json": {
       "model_id": "44b274f9ab614ea0b4ed816b184d3124",
       "version_major": 2,
       "version_minor": 0
      },
      "text/plain": [
       "  0%|          | 0/50 [00:00<?, ?it/s]"
      ]
     },
     "metadata": {},
     "output_type": "display_data"
    },
    {
     "name": "stdout",
     "output_type": "stream",
     "text": [
      "Saved generated image: dog_gener_image_60to80/4_dog.jpg\n",
      "CLIP score for 4_dog.jpg: 34.53257751464844\n"
     ]
    },
    {
     "data": {
      "application/vnd.jupyter.widget-view+json": {
       "model_id": "acec40172d224c6589419937e4e28306",
       "version_major": 2,
       "version_minor": 0
      },
      "text/plain": [
       "  0%|          | 0/50 [00:00<?, ?it/s]"
      ]
     },
     "metadata": {},
     "output_type": "display_data"
    },
    {
     "name": "stdout",
     "output_type": "stream",
     "text": [
      "Saved generated image: dog_gener_image_60to80/12_dog.jpg\n",
      "CLIP score for 12_dog.jpg: 34.28617477416992\n"
     ]
    },
    {
     "data": {
      "application/vnd.jupyter.widget-view+json": {
       "model_id": "4b8d4f5dabc84ece9c0b041db814c1a8",
       "version_major": 2,
       "version_minor": 0
      },
      "text/plain": [
       "  0%|          | 0/50 [00:00<?, ?it/s]"
      ]
     },
     "metadata": {},
     "output_type": "display_data"
    },
    {
     "name": "stdout",
     "output_type": "stream",
     "text": [
      "Saved generated image: dog_gener_image_60to80/13_dog.jpg\n",
      "CLIP score for 13_dog.jpg: 29.612104415893555\n"
     ]
    },
    {
     "data": {
      "application/vnd.jupyter.widget-view+json": {
       "model_id": "29086aec5ea141ed9873b3a74204b29a",
       "version_major": 2,
       "version_minor": 0
      },
      "text/plain": [
       "  0%|          | 0/50 [00:00<?, ?it/s]"
      ]
     },
     "metadata": {},
     "output_type": "display_data"
    },
    {
     "name": "stdout",
     "output_type": "stream",
     "text": [
      "Saved generated image: dog_gener_image_60to80/15_dog.jpg\n",
      "CLIP score for 15_dog.jpg: 38.98825454711914\n"
     ]
    },
    {
     "data": {
      "application/vnd.jupyter.widget-view+json": {
       "model_id": "81067d6d0ae04a89827b4ec51ee0dd4f",
       "version_major": 2,
       "version_minor": 0
      },
      "text/plain": [
       "  0%|          | 0/50 [00:00<?, ?it/s]"
      ]
     },
     "metadata": {},
     "output_type": "display_data"
    },
    {
     "name": "stdout",
     "output_type": "stream",
     "text": [
      "Saved generated image: dog_gener_image_60to80/16_dog.jpg\n",
      "CLIP score for 16_dog.jpg: 36.5889892578125\n"
     ]
    },
    {
     "data": {
      "application/vnd.jupyter.widget-view+json": {
       "model_id": "fe804e8968a34470a46d1453e539fb63",
       "version_major": 2,
       "version_minor": 0
      },
      "text/plain": [
       "  0%|          | 0/50 [00:00<?, ?it/s]"
      ]
     },
     "metadata": {},
     "output_type": "display_data"
    },
    {
     "name": "stdout",
     "output_type": "stream",
     "text": [
      "Saved generated image: dog_gener_image_60to80/17_dog.jpg\n",
      "CLIP score for 17_dog.jpg: 31.337146759033203\n",
      "Average CLIP score for captions_60to80.csv: 34.01907806396484\n"
     ]
    },
    {
     "name": "stderr",
     "output_type": "stream",
     "text": [
      "Creating feature extractor \"inception-v3-compat\" with features ['logits_unbiased']\n",
      "Extracting features from input1\n",
      "Looking for samples non-recursivelty in \"temp_images\" with extensions png,jpg,jpeg\n",
      "Found 10 samples\n",
      "                                                                        "
     ]
    },
    {
     "name": "stdout",
     "output_type": "stream",
     "text": [
      "Inception Score: 1.0 ± 7.850462293418876e-17\n",
      "Saved image info to: dog_gener_image_60to80/image_info.csv\n",
      "Average CLIP score for dog_gener_image_60to80: 34.01907806396484\n"
     ]
    },
    {
     "name": "stderr",
     "output_type": "stream",
     "text": [
      "Processing samples\n",
      "Inception Score: 1.0 ± 7.850462293418876e-17\n"
     ]
    }
   ],
   "source": [
    "import os\n",
    "import pandas as pd\n",
    "from diffusers import StableDiffusionPipeline\n",
    "import torch\n",
    "from PIL import Image\n",
    "from transformers import CLIPProcessor, CLIPModel\n",
    "import numpy as np\n",
    "import torchvision.transforms as transforms\n",
    "from torch_fidelity import calculate_metrics\n",
    "import shutil\n",
    "\n",
    "# Disable tokenizers parallelism warning\n",
    "os.environ[\"TOKENIZERS_PARALLELISM\"] = \"false\"\n",
    "\n",
    "# Load the Stable Diffusion pipeline\n",
    "model_id = \"runwayml/stable-diffusion-v1-5\"\n",
    "pipe = StableDiffusionPipeline.from_pretrained(model_id, torch_dtype=torch.float16)\n",
    "pipe = pipe.to(\"cuda\")\n",
    "\n",
    "# Load the CLIP model and processor\n",
    "clip_model = CLIPModel.from_pretrained(\"openai/clip-vit-base-patch32\")\n",
    "clip_processor = CLIPProcessor.from_pretrained(\"openai/clip-vit-base-patch32\")\n",
    "\n",
    "# Define the paths to your datasets and the output directory\n",
    "dataset_files = [\"captions_20to40.csv\",\"captions_40to60.csv\", \"captions_60to80.csv\"]\n",
    "output_dirs = [\"dog_gener_image_20to40\", \"dog_gener_image_40to60\", \"dog_gener_image_60to80\"]\n",
    "\n",
    "# Define a function to calculate CLIP score\n",
    "def calculate_clip_score(image, text):\n",
    "    inputs = clip_processor(text=[text], images=image, return_tensors=\"pt\")\n",
    "    outputs = clip_model(**inputs)\n",
    "    logits_per_image = outputs.logits_per_image\n",
    "    return logits_per_image.item()\n",
    "\n",
    "# Iterate over each dataset file\n",
    "for dataset_path, output_dir in zip(dataset_files, output_dirs):\n",
    "    # Create the output directory if it doesn't exist\n",
    "    os.makedirs(output_dir, exist_ok=True)\n",
    "    print(f\"Processing dataset: {dataset_path}, saving to: {output_dir}\")\n",
    "\n",
    "    # Read the CSV file\n",
    "    data = pd.read_csv(dataset_path)\n",
    "\n",
    "    # Initialize lists for storing images and captions for Inception Score calculation\n",
    "    generated_images = []\n",
    "\n",
    "    # List to store image info\n",
    "    image_info = []\n",
    "\n",
    "    # List to store CLIP scores\n",
    "    clip_scores = []\n",
    "\n",
    "    # Iterate over each row in the CSV file\n",
    "    for index, row in data.iterrows():\n",
    "        image_name = row['image']\n",
    "        caption = row['caption']\n",
    "\n",
    "        # Generate the image using the caption\n",
    "        generated_image = pipe(caption).images[0]\n",
    "        generated_images.append(generated_image)\n",
    "\n",
    "        # Create a unique output file name\n",
    "        output_file_name = image_name\n",
    "        output_path = os.path.join(output_dir, output_file_name)\n",
    "        \n",
    "        # Save the generated image to the output directory\n",
    "        generated_image.save(output_path)\n",
    "        print(f\"Saved generated image: {output_path}\")\n",
    "\n",
    "        # Calculate and print the CLIP score\n",
    "        clip_score = calculate_clip_score(generated_image, caption)\n",
    "        print(f\"CLIP score for {output_file_name}: {clip_score}\")\n",
    "\n",
    "        # Store the CLIP score\n",
    "        clip_scores.append(clip_score)\n",
    "\n",
    "        # Store the information in the list\n",
    "        image_info.append({\n",
    "            'image_name': output_file_name,\n",
    "            'caption': caption,\n",
    "            'clip_score': clip_score\n",
    "        })\n",
    "\n",
    "    # Calculate the average CLIP score\n",
    "    average_clip_score = np.mean(clip_scores)\n",
    "    print(f\"Average CLIP score for {dataset_path}: {average_clip_score}\")\n",
    "\n",
    "    # Preprocess images for Inception Score calculation\n",
    "    preprocessed_images = [transforms.ToTensor()(img).unsqueeze(0) for img in generated_images]\n",
    "    preprocessed_images = torch.cat(preprocessed_images, dim=0).to(\"cuda\")\n",
    "\n",
    "    # Save preprocessed images to a temporary directory\n",
    "    temp_dir = \"temp_images\"\n",
    "    os.makedirs(temp_dir, exist_ok=True)\n",
    "    for i, img in enumerate(preprocessed_images):\n",
    "        img_pil = transforms.ToPILImage()(img)\n",
    "        img_pil.save(os.path.join(temp_dir, f\"img_{i}.png\"))\n",
    "\n",
    "    # Calculate Inception Score using torch-fidelity\n",
    "    metrics = calculate_metrics(input1=temp_dir, input1_model=\"inception-v3\", isc=True)\n",
    "    inception_score = metrics[\"inception_score_mean\"]\n",
    "    inception_score_std = metrics[\"inception_score_std\"]\n",
    "    print(f\"Inception Score: {inception_score} ± {inception_score_std}\")\n",
    "\n",
    "    # Clean up temporary directory\n",
    "    shutil.rmtree(temp_dir)\n",
    "\n",
    "    # Add Inception Score to the image info list\n",
    "    image_info.append({\n",
    "        'inception_score': inception_score,\n",
    "        'inception_score_std': inception_score_std\n",
    "    })\n",
    "\n",
    "    # Save the image info to a CSV file\n",
    "    image_info_df = pd.DataFrame(image_info)\n",
    "    image_info_csv_path = os.path.join(output_dir, 'image_info.csv')\n",
    "    image_info_df.to_csv(image_info_csv_path, index=False)\n",
    "    print(f\"Saved image info to: {image_info_csv_path}\")\n",
    "\n",
    "    # Print the average CLIP score\n",
    "    print(f\"Average CLIP score for {output_dir}: {average_clip_score}\")\n"
   ]
  },
  {
   "cell_type": "code",
   "execution_count": null,
   "id": "b80efbd4",
   "metadata": {},
   "outputs": [],
   "source": []
  }
 ],
 "metadata": {
  "kernelspec": {
   "display_name": "Python 3 (ipykernel)",
   "language": "python",
   "name": "python3"
  },
  "language_info": {
   "codemirror_mode": {
    "name": "ipython",
    "version": 3
   },
   "file_extension": ".py",
   "mimetype": "text/x-python",
   "name": "python",
   "nbconvert_exporter": "python",
   "pygments_lexer": "ipython3",
   "version": "3.9.5"
  }
 },
 "nbformat": 4,
 "nbformat_minor": 5
}
